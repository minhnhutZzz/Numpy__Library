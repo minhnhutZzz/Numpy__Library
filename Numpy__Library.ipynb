{
 "cells": [
  {
   "cell_type": "markdown",
   "id": "6293cc50",
   "metadata": {},
   "source": [
    "# BÀI TẬP"
   ]
  },
  {
   "cell_type": "markdown",
   "id": "3c1222ff",
   "metadata": {},
   "source": [
    "#### 1. Nhập gói numpy dưới tên `np` (★☆☆)"
   ]
  },
  {
   "cell_type": "code",
   "execution_count": 1,
   "id": "f52e6a0b",
   "metadata": {},
   "outputs": [],
   "source": [
    "import numpy as np"
   ]
  },
  {
   "cell_type": "markdown",
   "id": "9d9f4753",
   "metadata": {},
   "source": [
    "#### 2. In phiên bản numpy và cấu hình (★☆☆)"
   ]
  },
  {
   "cell_type": "code",
   "execution_count": 12,
   "id": "b7fa5fa1",
   "metadata": {},
   "outputs": [
    {
     "name": "stdout",
     "output_type": "stream",
     "text": [
      "1.26.4\n",
      "Build Dependencies:\n",
      "  blas:\n",
      "    detection method: pkgconfig\n",
      "    found: true\n",
      "    include directory: D:/anaconda/Library/include\n",
      "    lib directory: D:/anaconda/Library/lib\n",
      "    name: mkl-sdl\n",
      "    openblas configuration: unknown\n",
      "    pc file directory: C:\\b\\abs_c1ywpu18ar\\croot\\numpy_and_numpy_base_1708638681471\\_h_env\\Library\\lib\\pkgconfig\n",
      "    version: '2023.1'\n",
      "  lapack:\n",
      "    detection method: internal\n",
      "    found: true\n",
      "    include directory: unknown\n",
      "    lib directory: unknown\n",
      "    name: dep1583119523984\n",
      "    openblas configuration: unknown\n",
      "    pc file directory: unknown\n",
      "    version: 1.26.4\n",
      "Compilers:\n",
      "  c:\n",
      "    commands: cl.exe\n",
      "    linker: link\n",
      "    name: msvc\n",
      "    version: 19.29.30154\n",
      "  c++:\n",
      "    commands: cl.exe\n",
      "    linker: link\n",
      "    name: msvc\n",
      "    version: 19.29.30154\n",
      "  cython:\n",
      "    commands: cython\n",
      "    linker: cython\n",
      "    name: cython\n",
      "    version: 3.0.8\n",
      "Machine Information:\n",
      "  build:\n",
      "    cpu: x86_64\n",
      "    endian: little\n",
      "    family: x86_64\n",
      "    system: windows\n",
      "  host:\n",
      "    cpu: x86_64\n",
      "    endian: little\n",
      "    family: x86_64\n",
      "    system: windows\n",
      "Python Information:\n",
      "  path: C:\\b\\abs_c1ywpu18ar\\croot\\numpy_and_numpy_base_1708638681471\\_h_env\\python.exe\n",
      "  version: '3.12'\n",
      "SIMD Extensions:\n",
      "  baseline:\n",
      "  - SSE\n",
      "  - SSE2\n",
      "  - SSE3\n",
      "  found:\n",
      "  - SSSE3\n",
      "  - SSE41\n",
      "  - POPCNT\n",
      "  - SSE42\n",
      "  - AVX\n",
      "  - F16C\n",
      "  - FMA3\n",
      "  - AVX2\n",
      "  not found:\n",
      "  - AVX512F\n",
      "  - AVX512CD\n",
      "  - AVX512_SKX\n",
      "  - AVX512_CLX\n",
      "  - AVX512_CNL\n",
      "  - AVX512_ICL\n",
      "\n",
      "None\n"
     ]
    }
   ],
   "source": [
    "print(np.__version__)\n",
    "print(np.show_config())"
   ]
  },
  {
   "cell_type": "markdown",
   "id": "3e4c23c6",
   "metadata": {},
   "source": [
    "#### 3. Tạo một vector null có kích thước 10 (★☆☆)"
   ]
  },
  {
   "cell_type": "code",
   "execution_count": 14,
   "id": "083c5c46",
   "metadata": {},
   "outputs": [
    {
     "data": {
      "text/plain": [
       "array([0., 0., 0., 0., 0., 0., 0., 0., 0., 0.])"
      ]
     },
     "execution_count": 14,
     "metadata": {},
     "output_type": "execute_result"
    }
   ],
   "source": [
    "np.zeros(10)"
   ]
  },
  {
   "cell_type": "markdown",
   "id": "c38bbe82",
   "metadata": {},
   "source": [
    "#### 4. Làm thế nào để tìm kích thước bộ nhớ của bất kỳ mảng nào (★☆☆)"
   ]
  },
  {
   "cell_type": "code",
   "execution_count": 3,
   "id": "02b04021",
   "metadata": {},
   "outputs": [
    {
     "name": "stdout",
     "output_type": "stream",
     "text": [
      "Kich thuoc bo nho cua mang: 40 bytes\n"
     ]
    }
   ],
   "source": [
    "arr = np.zeros(10, dtype=int)\n",
    "size= arr.nbytes\n",
    "print(f\"Kich thuoc bo nho cua mang: {size} bytes\")"
   ]
  },
  {
   "cell_type": "markdown",
   "id": "67f893d4",
   "metadata": {},
   "source": [
    "#### 5. Làm thế nào để lấy tài liệu về hàm numpy add từ dòng lệnh? (★☆☆)"
   ]
  },
  {
   "cell_type": "code",
   "execution_count": 24,
   "id": "40e6b70d",
   "metadata": {},
   "outputs": [
    {
     "name": "stdout",
     "output_type": "stream",
     "text": [
      "Help on ufunc:\n",
      "\n",
      "add = <ufunc 'add'>\n",
      "    add(x1, x2, /, out=None, *, where=True, casting='same_kind', order='K', dtype=None, subok=True[, signature, extobj])\n",
      "\n",
      "    Add arguments element-wise.\n",
      "\n",
      "    Parameters\n",
      "    ----------\n",
      "    x1, x2 : array_like\n",
      "        The arrays to be added.\n",
      "        If ``x1.shape != x2.shape``, they must be broadcastable to a common\n",
      "        shape (which becomes the shape of the output).\n",
      "    out : ndarray, None, or tuple of ndarray and None, optional\n",
      "        A location into which the result is stored. If provided, it must have\n",
      "        a shape that the inputs broadcast to. If not provided or None,\n",
      "        a freshly-allocated array is returned. A tuple (possible only as a\n",
      "        keyword argument) must have length equal to the number of outputs.\n",
      "    where : array_like, optional\n",
      "        This condition is broadcast over the input. At locations where the\n",
      "        condition is True, the `out` array will be set to the ufunc result.\n",
      "        Elsewhere, the `out` array will retain its original value.\n",
      "        Note that if an uninitialized `out` array is created via the default\n",
      "        ``out=None``, locations within it where the condition is False will\n",
      "        remain uninitialized.\n",
      "    **kwargs\n",
      "        For other keyword-only arguments, see the\n",
      "        :ref:`ufunc docs <ufuncs.kwargs>`.\n",
      "\n",
      "    Returns\n",
      "    -------\n",
      "    add : ndarray or scalar\n",
      "        The sum of `x1` and `x2`, element-wise.\n",
      "        This is a scalar if both `x1` and `x2` are scalars.\n",
      "\n",
      "    Notes\n",
      "    -----\n",
      "    Equivalent to `x1` + `x2` in terms of array broadcasting.\n",
      "\n",
      "    Examples\n",
      "    --------\n",
      "    >>> np.add(1.0, 4.0)\n",
      "    5.0\n",
      "    >>> x1 = np.arange(9.0).reshape((3, 3))\n",
      "    >>> x2 = np.arange(3.0)\n",
      "    >>> np.add(x1, x2)\n",
      "    array([[  0.,   2.,   4.],\n",
      "           [  3.,   5.,   7.],\n",
      "           [  6.,   8.,  10.]])\n",
      "\n",
      "    The ``+`` operator can be used as a shorthand for ``np.add`` on ndarrays.\n",
      "\n",
      "    >>> x1 = np.arange(9.0).reshape((3, 3))\n",
      "    >>> x2 = np.arange(3.0)\n",
      "    >>> x1 + x2\n",
      "    array([[ 0.,  2.,  4.],\n",
      "           [ 3.,  5.,  7.],\n",
      "           [ 6.,  8., 10.]])\n",
      "\n"
     ]
    }
   ],
   "source": [
    "help(np.add)"
   ]
  },
  {
   "cell_type": "markdown",
   "id": "e0c739c6",
   "metadata": {},
   "source": [
    "#### 6. Tạo một vectơ null có kích thước 10 nhưng giá trị thứ năm là 1 (★☆☆)"
   ]
  },
  {
   "cell_type": "code",
   "execution_count": 9,
   "id": "bcceacf7",
   "metadata": {},
   "outputs": [
    {
     "name": "stdout",
     "output_type": "stream",
     "text": [
      "[0 0 0 0 1 0 0 0 0 0]\n"
     ]
    }
   ],
   "source": [
    "v = np.zeros(10, dtype=int)  \n",
    "v[4] = 1  \n",
    "print(v)"
   ]
  },
  {
   "cell_type": "markdown",
   "id": "fbebedab",
   "metadata": {},
   "source": [
    "#### 7. Tạo một vector có giá trị từ 10 đến 49 (★☆☆)"
   ]
  },
  {
   "cell_type": "code",
   "execution_count": 9,
   "id": "3d117d54",
   "metadata": {},
   "outputs": [
    {
     "name": "stdout",
     "output_type": "stream",
     "text": [
      "[10 11 12 13 14 15 16 17 18 19 20 21 22 23 24 25 26 27 28 29 30 31 32 33\n",
      " 34 35 36 37 38 39 40 41 42 43 44 45 46 47 48 49]\n"
     ]
    }
   ],
   "source": [
    "v = np.arange(10, 50)  \n",
    "print(v)"
   ]
  },
  {
   "cell_type": "markdown",
   "id": "ad0bff02",
   "metadata": {},
   "source": [
    "#### 8. Đảo ngược một vectơ (phần tử đầu tiên trở thành phần tử cuối cùng) (★☆☆)"
   ]
  },
  {
   "cell_type": "code",
   "execution_count": 5,
   "id": "22d23470",
   "metadata": {},
   "outputs": [
    {
     "name": "stdout",
     "output_type": "stream",
     "text": [
      "[49 48 47 46 45 44 43 42 41 40 39 38 37 36 35 34 33 32 31 30 29 28 27 26\n",
      " 25 24 23 22 21 20 19 18 17 16 15 14 13 12 11 10]\n"
     ]
    }
   ],
   "source": [
    "v = np.arange(10, 50)  \n",
    "v_daonguoc = v[::-1] \n",
    "print(v_daonguoc)"
   ]
  },
  {
   "cell_type": "markdown",
   "id": "9f59d7e1",
   "metadata": {},
   "source": [
    "#### 9. Tạo một ma trận 3x3 với các giá trị từ 0 đến 8 (★☆☆)"
   ]
  },
  {
   "cell_type": "code",
   "execution_count": 13,
   "id": "7449e82d",
   "metadata": {},
   "outputs": [
    {
     "name": "stdout",
     "output_type": "stream",
     "text": [
      "[[0 1 2]\n",
      " [3 4 5]\n",
      " [6 7 8]]\n"
     ]
    }
   ],
   "source": [
    "matrix = np.arange(9).reshape(3, 3) \n",
    "print(matrix)"
   ]
  },
  {
   "cell_type": "markdown",
   "id": "f374c4cf",
   "metadata": {},
   "source": [
    "#### 10. Tìm chỉ số của các phần tử khác không từ [1,2,0,0,4,0] (★☆☆)"
   ]
  },
  {
   "cell_type": "code",
   "execution_count": 15,
   "id": "1a84bed8",
   "metadata": {},
   "outputs": [
    {
     "name": "stdout",
     "output_type": "stream",
     "text": [
      "(array([0, 1, 4], dtype=int64),)\n"
     ]
    }
   ],
   "source": [
    "arr = np.array([1, 2, 0, 0, 4, 0])\n",
    "chiso = np.nonzero(arr)  \n",
    "print(chiso)"
   ]
  },
  {
   "cell_type": "markdown",
   "id": "9c4707f5",
   "metadata": {},
   "source": [
    "#### 11. Tạo ma trận đơn vị 3x3 (★☆☆)"
   ]
  },
  {
   "cell_type": "code",
   "execution_count": 17,
   "id": "29dc1fd3",
   "metadata": {},
   "outputs": [
    {
     "name": "stdout",
     "output_type": "stream",
     "text": [
      "[[1. 0. 0.]\n",
      " [0. 1. 0.]\n",
      " [0. 0. 1.]]\n"
     ]
    }
   ],
   "source": [
    "matrix = np.eye(3) \n",
    "print(matrix)"
   ]
  },
  {
   "cell_type": "markdown",
   "id": "3bac294a",
   "metadata": {},
   "source": [
    "#### 12. Tạo một mảng 3x3x3 với các giá trị ngẫu nhiên (★☆☆)"
   ]
  },
  {
   "cell_type": "code",
   "execution_count": 19,
   "id": "eadfae67",
   "metadata": {},
   "outputs": [
    {
     "name": "stdout",
     "output_type": "stream",
     "text": [
      "[[[0.98883133 0.25298142 0.26734815]\n",
      "  [0.77319543 0.22831561 0.09377715]\n",
      "  [0.7464568  0.05932225 0.53489692]]\n",
      "\n",
      " [[0.13129407 0.93599993 0.09405923]\n",
      "  [0.55192944 0.01877787 0.2680624 ]\n",
      "  [0.2541263  0.97228524 0.13049857]]\n",
      "\n",
      " [[0.93853788 0.22823735 0.36929449]\n",
      "  [0.21924869 0.51794294 0.25888695]\n",
      "  [0.36964453 0.932189   0.28198277]]]\n"
     ]
    }
   ],
   "source": [
    "arr = np.random.random((3, 3, 3)) \n",
    "print(arr)"
   ]
  },
  {
   "cell_type": "markdown",
   "id": "466c2989",
   "metadata": {},
   "source": [
    "#### 13. Tạo một mảng 10x10 với các giá trị ngẫu nhiên và tìm giá trị nhỏ nhất và lớn nhất (★☆☆)"
   ]
  },
  {
   "cell_type": "code",
   "execution_count": 25,
   "id": "9a74dbfc",
   "metadata": {},
   "outputs": [
    {
     "name": "stdout",
     "output_type": "stream",
     "text": [
      "min:  0.008979240777706399  max:  0.99893233484468\n"
     ]
    }
   ],
   "source": [
    "arr=np.random.random((10,10))\n",
    "min=np.min(arr)\n",
    "max=np.max(arr)\n",
    "print(\"min: \",min,\" max: \",max)"
   ]
  },
  {
   "cell_type": "markdown",
   "id": "53a8edb2",
   "metadata": {},
   "source": [
    "#### 14. Tạo một vectơ ngẫu nhiên có kích thước 30 và tìm giá trị trung bình (★☆☆)"
   ]
  },
  {
   "cell_type": "code",
   "execution_count": 27,
   "id": "6691530b",
   "metadata": {},
   "outputs": [
    {
     "name": "stdout",
     "output_type": "stream",
     "text": [
      "0.6149471177402047\n"
     ]
    }
   ],
   "source": [
    "vector = np.random.rand(30)\n",
    "gt_trungbinh=np.mean(vector)\n",
    "print(gt_trungbinh)"
   ]
  },
  {
   "cell_type": "markdown",
   "id": "cbaad31c",
   "metadata": {},
   "source": [
    "#### 15. Tạo một mảng 2 chiều với 1 ở viền và 0 ở bên trong (★☆☆)"
   ]
  },
  {
   "cell_type": "code",
   "execution_count": 31,
   "id": "ad8308e3",
   "metadata": {},
   "outputs": [
    {
     "name": "stdout",
     "output_type": "stream",
     "text": [
      "[[1 1 1]\n",
      " [1 0 1]\n",
      " [1 1 1]]\n"
     ]
    }
   ],
   "source": [
    "rows, cols = 3, 3\n",
    "matrix = np.zeros((rows, cols), dtype=int)\n",
    "matrix[0, :] = 1\n",
    "matrix[-1, :] = 1\n",
    "matrix[:, 0] = 1\n",
    "matrix[:, -1] = 1\n",
    "print(matrix)"
   ]
  },
  {
   "cell_type": "markdown",
   "id": "c5ecc267",
   "metadata": {},
   "source": [
    "#### 16. Làm thế nào để thêm đường viền (chứa số 0) xung quanh một mảng hiện có? (★☆☆)"
   ]
  },
  {
   "cell_type": "code",
   "execution_count": 13,
   "id": "9d5c78c4",
   "metadata": {},
   "outputs": [
    {
     "name": "stdout",
     "output_type": "stream",
     "text": [
      "Mang ban dau:\n",
      " [[1 1 1]\n",
      " [1 1 1]\n",
      " [1 1 1]]\n",
      "\n",
      "Mang sau khi them vien:\n",
      " [[0 0 0 0 0]\n",
      " [0 1 1 1 0]\n",
      " [0 1 1 1 0]\n",
      " [0 1 1 1 0]\n",
      " [0 0 0 0 0]]\n"
     ]
    }
   ],
   "source": [
    "arr1 = np.ones((3, 3), dtype=int)\n",
    "print(\"Mang ban dau:\\n\", arr1)\n",
    "arr2 = np.pad(arr1, pad_width=1, mode='constant', constant_values=0)\n",
    "print(\"\\nMang sau khi them vien:\\n\", arr2)"
   ]
  },
  {
   "cell_type": "markdown",
   "id": "ef909b72",
   "metadata": {},
   "source": [
    "#### 17. Kết quả của biểu thức sau là gì? (★☆☆)\n",
    "```python\n",
    "0 * np.nan\n",
    "np.nan == np.nan\n",
    "np.inf > np.nan\n",
    "np.nan - np.nan\n",
    "np.nan in set([np.nan])\n",
    "0.3 == 3 * 0.1\n",
    "```"
   ]
  },
  {
   "cell_type": "code",
   "execution_count": null,
   "id": "3b4985f2",
   "metadata": {},
   "outputs": [],
   "source": [
    "nan\n",
    "False\n",
    "False\n",
    "nan\n",
    "True\n",
    "False"
   ]
  },
  {
   "cell_type": "markdown",
   "id": "502738ac",
   "metadata": {},
   "source": [
    "#### 18. Tạo một ma trận 5x5 với các giá trị 1,2,3,4 ngay bên dưới đường chéo (★☆☆)"
   ]
  },
  {
   "cell_type": "code",
   "execution_count": 39,
   "id": "faed6e2b",
   "metadata": {},
   "outputs": [
    {
     "name": "stdout",
     "output_type": "stream",
     "text": [
      "[[0 0 0 0 0]\n",
      " [1 0 0 0 0]\n",
      " [0 2 0 0 0]\n",
      " [0 0 3 0 0]\n",
      " [0 0 0 4 0]]\n"
     ]
    }
   ],
   "source": [
    "values = [1, 2, 3, 4]\n",
    "matrix = np.diag(values, k=-1)\n",
    "print(matrix)"
   ]
  },
  {
   "cell_type": "markdown",
   "id": "a65da660",
   "metadata": {},
   "source": [
    "#### 19. Tạo một ma trận 8x8 và tô nó bằng một mẫu bàn cờ (★☆☆)"
   ]
  },
  {
   "cell_type": "code",
   "execution_count": 41,
   "id": "ed150400",
   "metadata": {},
   "outputs": [
    {
     "name": "stdout",
     "output_type": "stream",
     "text": [
      "[[0 1 0 1 0 1 0 1]\n",
      " [1 0 1 0 1 0 1 0]\n",
      " [0 1 0 1 0 1 0 1]\n",
      " [1 0 1 0 1 0 1 0]\n",
      " [0 1 0 1 0 1 0 1]\n",
      " [1 0 1 0 1 0 1 0]\n",
      " [0 1 0 1 0 1 0 1]\n",
      " [1 0 1 0 1 0 1 0]]\n"
     ]
    }
   ],
   "source": [
    "banco = np.zeros((8, 8), dtype=int)\n",
    "banco[1::2, ::2] = 1  \n",
    "banco[::2, 1::2] = 1  \n",
    "print(banco)"
   ]
  },
  {
   "cell_type": "markdown",
   "id": "9f7f9c49",
   "metadata": {},
   "source": [
    "#### 20. Xét một mảng hình dạng (6,7,8), chỉ số (x,y,z) của phần tử thứ 100 là gì?(★☆☆)"
   ]
  },
  {
   "cell_type": "code",
   "execution_count": null,
   "id": "3782b5a9",
   "metadata": {},
   "outputs": [],
   "source": [
    "Phần tử thứ 100 có tọa độ là (1,5,4)."
   ]
  },
  {
   "cell_type": "markdown",
   "id": "66bfda35",
   "metadata": {},
   "source": [
    "#### 21. Tạo ma trận bàn cờ 8x8 bằng hàm tile (★☆☆)"
   ]
  },
  {
   "cell_type": "code",
   "execution_count": null,
   "id": "4c07477c",
   "metadata": {},
   "outputs": [],
   "source": [
    "matran_mau = np.array([[0, 1], [1, 0]])\n",
    "banco = np.tile(matran_mau, (4, 4))\n",
    "print(banco)"
   ]
  },
  {
   "cell_type": "markdown",
   "id": "d5bcfc08",
   "metadata": {},
   "source": [
    "#### 22. Chuẩn hóa ma trận ngẫu nhiên 5x5 (★☆☆)"
   ]
  },
  {
   "cell_type": "code",
   "execution_count": 15,
   "id": "cea6c993",
   "metadata": {},
   "outputs": [
    {
     "name": "stdout",
     "output_type": "stream",
     "text": [
      "ma tran ban dau:\n",
      " [[73 10 79 20 75]\n",
      " [98 54 56 66 20]\n",
      " [57 29 40 84 27]\n",
      " [80 68 70 54 47]\n",
      " [90 37 56 11 61]]\n",
      "\n",
      "ma tran chuan hoa:\n",
      " [[0.71590909 0.         0.78409091 0.11363636 0.73863636]\n",
      " [1.         0.5        0.52272727 0.63636364 0.11363636]\n",
      " [0.53409091 0.21590909 0.34090909 0.84090909 0.19318182]\n",
      " [0.79545455 0.65909091 0.68181818 0.5        0.42045455]\n",
      " [0.90909091 0.30681818 0.52272727 0.01136364 0.57954545]]\n"
     ]
    }
   ],
   "source": [
    "matrix = np.random.randint(0, 100,(5,5))\n",
    "matrix_min = matrix.min()\n",
    "matrix_max = matrix.max()\n",
    "matrix_chuanhoa = (matrix - matrix_min) / (matrix_max - matrix_min)\n",
    "print(\"ma tran ban dau:\\n\", matrix)\n",
    "print(\"\\nma tran chuan hoa:\\n\", matrix_chuanhoa)"
   ]
  },
  {
   "cell_type": "markdown",
   "id": "f9a0911e",
   "metadata": {},
   "source": [
    "#### 23. Tạo một dtype tùy chỉnh mô tả màu sắc dưới dạng bốn byte không dấu (RGBA) (★☆☆)"
   ]
  },
  {
   "cell_type": "code",
   "execution_count": 49,
   "id": "d165044b",
   "metadata": {},
   "outputs": [],
   "source": [
    "rgba_dtype = np.dtype([\n",
    "    ('R', np.uint8),  # do \n",
    "    ('G', np.uint8),  # xanh la\n",
    "    ('B', np.uint8),  # xanh duong \n",
    "    ('A', np.uint8)   # Alpha \n",
    "])"
   ]
  },
  {
   "cell_type": "markdown",
   "id": "654805b1",
   "metadata": {},
   "source": [
    "#### 24. Nhân ma trận 5x3 với ma trận 3x2 (tích ma trận thực) (★☆☆)"
   ]
  },
  {
   "cell_type": "code",
   "execution_count": 51,
   "id": "6a42619f",
   "metadata": {},
   "outputs": [
    {
     "name": "stdout",
     "output_type": "stream",
     "text": [
      "Matrix1:\n",
      " [[7 4 5]\n",
      " [9 1 3]\n",
      " [5 2 2]\n",
      " [1 8 9]\n",
      " [3 4 5]]\n",
      "\n",
      "Matrix2:\n",
      " [[5 8]\n",
      " [6 6]\n",
      " [1 4]]\n",
      "\n",
      "Matrix_ketqua:\n",
      " [[ 64 100]\n",
      " [ 54  90]\n",
      " [ 39  60]\n",
      " [ 62  92]\n",
      " [ 44  68]]\n"
     ]
    }
   ],
   "source": [
    "matrix1 = np.random.randint(1, 10, (5, 3))\n",
    "matrix2 = np.random.randint(1, 10, (3, 2))\n",
    "matrix_ketqua = np.dot(matrix1, matrix2)  \n",
    "print(\"Matrix1:\\n\", matrix1)\n",
    "print(\"\\nMatrix2:\\n\", matrix2)\n",
    "print(\"\\nMatrix_ketqua:\\n\", matrix_ketqua)"
   ]
  },
  {
   "cell_type": "markdown",
   "id": "994c25df",
   "metadata": {},
   "source": [
    "#### 25. Cho một mảng 1 chiều, phủ định tất cả các phần tử nằm giữa 3 và 8 tại chỗ. (★☆☆)"
   ]
  },
  {
   "cell_type": "code",
   "execution_count": 55,
   "id": "e4b39c03",
   "metadata": {},
   "outputs": [
    {
     "name": "stdout",
     "output_type": "stream",
     "text": [
      "mang ban dau:\n",
      " [9 9 7 9 4 8 7 8 2 1]\n",
      "Mang sau khi phu dinh:\n",
      " [ 9  9 -7  9 -4  8 -7  8  2  1]\n"
     ]
    }
   ],
   "source": [
    "arr = np.random.randint(1, 11, 10)\n",
    "print(\"mang ban dau:\\n\",arr)\n",
    "# Phu dinh\n",
    "arr[(arr > 3) & (arr < 8)] *= -1\n",
    "\n",
    "print(\"Mang sau khi phu dinh:\\n\", arr)"
   ]
  },
  {
   "cell_type": "markdown",
   "id": "b7d15d1a",
   "metadata": {},
   "source": [
    "#### 26. Kết quả của đoạn mã sau là gì? (★☆☆)\n",
    "```python\n",
    "# Author: Jake VanderPlas\n",
    "\n",
    "print(sum(range(5),-1))\n",
    "from numpy import *\n",
    "print(sum(range(5),-1))\n",
    "```"
   ]
  },
  {
   "cell_type": "code",
   "execution_count": null,
   "id": "4c95bc3f",
   "metadata": {},
   "outputs": [],
   "source": [
    "9\n",
    "10"
   ]
  },
  {
   "cell_type": "markdown",
   "id": "a34f0d08",
   "metadata": {},
   "source": [
    "#### 27. Xét một vectơ số nguyên Z, biểu thức nào sau đây là hợp lệ? (★☆☆)\n",
    "```python\n",
    "Z**Z\n",
    "2 << Z >> 2\n",
    "Z <- Z\n",
    "1j*Z\n",
    "Z/1/1\n",
    "Z<Z>Z\n",
    "```"
   ]
  },
  {
   "cell_type": "code",
   "execution_count": null,
   "id": "564658fc",
   "metadata": {},
   "outputs": [],
   "source": [
    "Z**Z : hợp lệ\n",
    "2 << Z >> 2: hợp lệ\n",
    "Z <- Z: không hợp lệ\n",
    "1j*Z: hợp lệ\n",
    "Z/1/1: hợp lệ\n",
    "Z<Z>: không hợp lệ"
   ]
  },
  {
   "cell_type": "markdown",
   "id": "c34e94bf",
   "metadata": {},
   "source": [
    "#### 28. Kết quả của các biểu thức sau là gì? (★☆☆)\n",
    "```python\n",
    "np.array(0) / np.array(0)\n",
    "np.array(0) // np.array(0)\n",
    "np.array([np.nan]).astype(int).astype(float)\n",
    "```"
   ]
  },
  {
   "cell_type": "code",
   "execution_count": null,
   "id": "56663562",
   "metadata": {},
   "outputs": [],
   "source": [
    "<string>:2: RuntimeWarning: invalid value encountered in divide\n",
    "nan\n",
    "<string>:3: RuntimeWarning: divide by zero encountered in floor_divide\n",
    "0\n",
    "<string>:4: RuntimeWarning: invalid value encountered in cast\n",
    "[-9.22337204e+18]"
   ]
  },
  {
   "cell_type": "markdown",
   "id": "546f5e7b",
   "metadata": {},
   "source": [
    "#### 29. Làm thế nào để làm tròn một mảng float ra khỏi số không? (★☆☆)"
   ]
  },
  {
   "cell_type": "code",
   "execution_count": null,
   "id": "f725a6d2",
   "metadata": {},
   "outputs": [],
   "source": [
    "Nếu số dương, dùng numpy.ceil() để làm tròn lên.\n",
    "Nếu số âm, dùng numpy.floor() để làm tròn xuống."
   ]
  },
  {
   "cell_type": "markdown",
   "id": "eadca856",
   "metadata": {},
   "source": [
    "#### 30. Làm thế nào để tìm giá trị chung giữa hai mảng? (★☆☆)"
   ]
  },
  {
   "cell_type": "code",
   "execution_count": 57,
   "id": "e0270b5b",
   "metadata": {},
   "outputs": [
    {
     "name": "stdout",
     "output_type": "stream",
     "text": [
      "[4, 5]\n"
     ]
    }
   ],
   "source": [
    "#dung set de tim gia tri chung giua 2 mang\n",
    "arr1 = [1, 2, 3, 4, 5]\n",
    "arr2 = [4, 5, 6, 7, 8]\n",
    "kq = list(set(arr1) & set(arr2))\n",
    "print(kq) "
   ]
  },
  {
   "cell_type": "markdown",
   "id": "c7871d0d",
   "metadata": {},
   "source": [
    "#### 32. Những biểu thức sau đây có đúng không? (★☆☆)\n",
    "```python\n",
    "np.sqrt(-1) == np.emath.sqrt(-1)\n",
    "```"
   ]
  },
  {
   "cell_type": "code",
   "execution_count": null,
   "id": "acc3701a",
   "metadata": {},
   "outputs": [],
   "source": [
    "Sai"
   ]
  },
  {
   "cell_type": "markdown",
   "id": "e0433e30",
   "metadata": {},
   "source": [
    "#### 33. Làm thế nào để lấy được ngày hôm qua, hôm nay và ngày mai? (★☆☆)"
   ]
  },
  {
   "cell_type": "code",
   "execution_count": 65,
   "id": "9c4d2152",
   "metadata": {},
   "outputs": [
    {
     "name": "stdout",
     "output_type": "stream",
     "text": [
      "Hom qua: 2025-02-09\n",
      "Hom nay: 2025-02-10\n",
      "Ngay mai: 2025-02-11\n"
     ]
    }
   ],
   "source": [
    "from datetime import datetime, timedelta\n",
    "hom_qua = hom_nay - timedelta(days=1)\n",
    "hom_nay = datetime.today()\n",
    "ngay_mai = hom_nay + timedelta(days=1)\n",
    "\n",
    "print(\"Hom qua:\", hom_qua.strftime(\"%Y-%m-%d\"))\n",
    "print(\"Hom nay:\", hom_nay.strftime(\"%Y-%m-%d\"))\n",
    "print(\"Ngay mai:\", ngay_mai.strftime(\"%Y-%m-%d\"))"
   ]
  },
  {
   "cell_type": "markdown",
   "id": "9f52a2ef",
   "metadata": {},
   "source": [
    "#### 34. Làm thế nào để có được tất cả các ngày tương ứng với tháng 7 năm 2016? (★★☆)"
   ]
  },
  {
   "cell_type": "code",
   "execution_count": 17,
   "id": "d6c34dec",
   "metadata": {},
   "outputs": [
    {
     "name": "stdout",
     "output_type": "stream",
     "text": [
      "2016-07-01\n",
      "2016-07-02\n",
      "2016-07-03\n",
      "2016-07-04\n",
      "2016-07-05\n",
      "2016-07-06\n",
      "2016-07-07\n",
      "2016-07-08\n",
      "2016-07-09\n",
      "2016-07-10\n",
      "2016-07-11\n",
      "2016-07-12\n",
      "2016-07-13\n",
      "2016-07-14\n",
      "2016-07-15\n",
      "2016-07-16\n",
      "2016-07-17\n",
      "2016-07-18\n",
      "2016-07-19\n",
      "2016-07-20\n",
      "2016-07-21\n",
      "2016-07-22\n",
      "2016-07-23\n",
      "2016-07-24\n",
      "2016-07-25\n",
      "2016-07-26\n",
      "2016-07-27\n",
      "2016-07-28\n",
      "2016-07-29\n",
      "2016-07-30\n",
      "2016-07-31\n"
     ]
    }
   ],
   "source": [
    "from datetime import date, timedelta\n",
    "nam = 2016\n",
    "thang = 7\n",
    "list = [date(nam, thang, ngay) for ngay in range(1, 32)]\n",
    "\n",
    "for ngay in list:\n",
    "    print(ngay.strftime(\"%Y-%m-%d\"))"
   ]
  },
  {
   "cell_type": "markdown",
   "id": "4a64e059",
   "metadata": {},
   "source": [
    "#### 35. Làm thế nào để tính ((A+B)*(-A/2)) tại chỗ (không cần sao chép)? (★★☆)"
   ]
  },
  {
   "cell_type": "code",
   "execution_count": 69,
   "id": "49267f60",
   "metadata": {},
   "outputs": [
    {
     "name": "stdout",
     "output_type": "stream",
     "text": [
      "-60.5\n",
      "[-12.5 -50.  -84.5]\n"
     ]
    }
   ],
   "source": [
    "#tinh truc tiep tren A\n",
    "# vi du A,B la so nguyen\n",
    "A=6\n",
    "B=5\n",
    "A += B \n",
    "A *= -A / 2  \n",
    "print (A)\n",
    "# vi du A,B la 2 mang\n",
    "A = np.array([4, 8, 10], dtype=float)\n",
    "B = np.array([1, 2, 3], dtype=float)\n",
    "A += B  \n",
    "A *= -A / 2 \n",
    "print(A)"
   ]
  },
  {
   "cell_type": "markdown",
   "id": "8a98c2a8",
   "metadata": {},
   "source": [
    "#### 36. Trích xuất phần nguyên của một mảng ngẫu nhiên các số dương bằng 4 phương pháp khác nhau (★★☆)"
   ]
  },
  {
   "cell_type": "code",
   "execution_count": 43,
   "id": "368130b3",
   "metadata": {},
   "outputs": [
    {
     "name": "stdout",
     "output_type": "stream",
     "text": [
      "ket qua 1: [1. 2. 3. 4. 5.]\n",
      "ket qua 2: [1. 2. 3. 4. 5.]\n",
      "ket qua 3: [1 2 3 4 5]\n",
      "ket qua 4: [1, 2, 3, 4, 5]\n"
     ]
    }
   ],
   "source": [
    "import numpy as np\n",
    "\n",
    "arr = [1.3, 2.1, 3, 4, 5.7]  \n",
    "arr = np.array(arr) \n",
    "\n",
    "# dung numpy.floor()\n",
    "phan_nguyen1 = np.floor(arr)\n",
    "print(\"ket qua 1:\", phan_nguyen1)\n",
    "\n",
    "# dung numpy.trunc()\n",
    "phan_nguyen2 = np.trunc(arr)\n",
    "print(\"ket qua 2:\", phan_nguyen2)\n",
    "\n",
    "# ep kieu astype(int)\n",
    "phan_nguyen3 = arr.astype(int)\n",
    "print(\"ket qua 3:\", phan_nguyen3)\n",
    "\n",
    "# dung list comprehension\n",
    "phan_nguyen4 = [int(x) for x in arr] \n",
    "print(\"ket qua 4:\", phan_nguyen4)\n"
   ]
  },
  {
   "cell_type": "markdown",
   "id": "5a2e3d85",
   "metadata": {},
   "source": [
    "#### 37. Tạo một ma trận 5x5 với các giá trị hàng nằm trong khoảng từ 0 đến 4 (★★☆)"
   ]
  },
  {
   "cell_type": "code",
   "execution_count": 99,
   "id": "1d974e8f",
   "metadata": {},
   "outputs": [
    {
     "name": "stdout",
     "output_type": "stream",
     "text": [
      "ma tran vua tao:\n",
      " [[0 1 2 3 4]\n",
      " [0 1 2 3 4]\n",
      " [0 1 2 3 4]\n",
      " [0 1 2 3 4]\n",
      " [0 1 2 3 4]]\n"
     ]
    }
   ],
   "source": [
    "matrix= np.tile(np.arange(5), (5, 1))\n",
    "print(\"ma tran vua tao:\\n\", matrix)"
   ]
  },
  {
   "cell_type": "markdown",
   "id": "9720e2d5",
   "metadata": {},
   "source": [
    "#### 38. Hãy xem xét một hàm tạo ra 10 số nguyên và sử dụng nó để xây dựng một mảng (★☆☆)"
   ]
  },
  {
   "cell_type": "code",
   "execution_count": 45,
   "id": "e5dd8fc9",
   "metadata": {},
   "outputs": [
    {
     "name": "stdout",
     "output_type": "stream",
     "text": [
      "mang can tao: [3 4 4 1 0 6 2 5 8 1]\n"
     ]
    }
   ],
   "source": [
    "import numpy as np\n",
    "\n",
    "def tao_so_nguyen():\n",
    "    return np.random.randint(0, 10, size=10)\n",
    "\n",
    "arr = tao_so_nguyen()\n",
    "print(\"mang can tao:\", arr)"
   ]
  },
  {
   "cell_type": "markdown",
   "id": "c6f2c912",
   "metadata": {},
   "source": [
    "#### 39. Tạo một vectơ có kích thước 10 với các giá trị nằm trong khoảng từ 0 đến 1, cả hai đều bị loại trừ (★★☆)"
   ]
  },
  {
   "cell_type": "code",
   "execution_count": 111,
   "id": "6aaa27d3",
   "metadata": {},
   "outputs": [
    {
     "name": "stdout",
     "output_type": "stream",
     "text": [
      "vector ket qua:\n",
      " [0.33341549 0.01022657 0.41746583 0.88553967 0.74832943 0.43902531\n",
      " 0.70067846 0.85234588 0.39664806 0.2356615 ]\n"
     ]
    }
   ],
   "source": [
    "vector = np.random.uniform(low=0, high=1, size=10)\n",
    "print(\"vector ket qua:\\n\", vector)"
   ]
  },
  {
   "cell_type": "markdown",
   "id": "a36d6ee4",
   "metadata": {},
   "source": [
    "#### 40. Tạo một vector ngẫu nhiên có kích thước 10 và sắp xếp nó (★★☆)"
   ]
  },
  {
   "cell_type": "code",
   "execution_count": 115,
   "id": "e589d216",
   "metadata": {},
   "outputs": [
    {
     "name": "stdout",
     "output_type": "stream",
     "text": [
      "vector ban dau: [0.75727207 0.55953569 0.74985221 0.96009965 0.50408295 0.10444313\n",
      " 0.75289305 0.26897401 0.4806644  0.8800931 ]\n",
      "vector sap xep: [0.10444313 0.26897401 0.4806644  0.50408295 0.55953569 0.74985221\n",
      " 0.75289305 0.75727207 0.8800931  0.96009965]\n"
     ]
    }
   ],
   "source": [
    "vector = np.random.rand(10)\n",
    "vector_sapxep = np.sort(vector)\n",
    "print(\"vector ban dau:\", vector)\n",
    "print(\"vector sap xep:\", vector_sapxep)"
   ]
  },
  {
   "cell_type": "markdown",
   "id": "0fb4ad68",
   "metadata": {},
   "source": [
    "#### 41. Làm thế nào để tính tổng một mảng nhỏ nhanh hơn np.sum? (★★☆)"
   ]
  },
  {
   "cell_type": "code",
   "execution_count": 117,
   "id": "a1ba05a0",
   "metadata": {},
   "outputs": [
    {
     "name": "stdout",
     "output_type": "stream",
     "text": [
      "Tong: 5.2834817773330585\n"
     ]
    }
   ],
   "source": [
    "# dung ham sum cua python\n",
    "arr = np.random.rand(10) \n",
    "tong = sum(arr) \n",
    "print(\"Tong:\", tong)"
   ]
  },
  {
   "cell_type": "markdown",
   "id": "024ac365",
   "metadata": {},
   "source": [
    "#### 42. Xét hai mảng ngẫu nhiên A và B, kiểm tra xem chúng có bằng nhau không (★★☆)"
   ]
  },
  {
   "cell_type": "code",
   "execution_count": 123,
   "id": "7db3846d",
   "metadata": {},
   "outputs": [
    {
     "name": "stdout",
     "output_type": "stream",
     "text": [
      "ket qua:  False\n"
     ]
    }
   ],
   "source": [
    "A = np.random.rand(4, 4)  \n",
    "B = np.random.rand(2, 3) \n",
    "check = np.array_equal(A, B)\n",
    "print(\"ket qua: \", check)"
   ]
  },
  {
   "cell_type": "markdown",
   "id": "c68d2401",
   "metadata": {},
   "source": [
    "#### 43. Làm cho một mảng không thể thay đổi (chỉ đọc) (★★☆)"
   ]
  },
  {
   "cell_type": "code",
   "execution_count": 125,
   "id": "7828539d",
   "metadata": {},
   "outputs": [],
   "source": [
    "arr = np.array([1, 2, 3, 4, 5, 6, 7]) \n",
    "arr.setflags(write=False)"
   ]
  },
  {
   "cell_type": "markdown",
   "id": "55df6280",
   "metadata": {},
   "source": [
    "#### 44. Hãy xem xét một ma trận ngẫu nhiên 10x2 biểu diễn tọa độ Descartes, chuyển đổi chúng thành tọa độ cực (★★☆)"
   ]
  },
  {
   "cell_type": "code",
   "execution_count": 129,
   "id": "f1c86ea0",
   "metadata": {},
   "outputs": [
    {
     "name": "stdout",
     "output_type": "stream",
     "text": [
      "toa do decac:\n",
      " [[5.88108568 9.10714659]\n",
      " [4.01180907 3.35390326]\n",
      " [0.6549473  6.63327595]\n",
      " [9.64693313 0.57215333]\n",
      " [4.73952317 2.99925701]\n",
      " [9.12303662 3.54734028]\n",
      " [6.00853331 4.25636188]\n",
      " [5.10773332 0.86301009]\n",
      " [0.13865174 3.16083859]\n",
      " [3.74928631 0.74035519]]\n",
      "\n",
      "toa do cuc:\n",
      " [[10.84100031  0.99740331]\n",
      " [ 5.22908014  0.69631452]\n",
      " [ 6.66553118  1.47237869]\n",
      " [ 9.66388525  0.05923995]\n",
      " [ 5.60879867  0.56420172]\n",
      " [ 9.78843299  0.37084299]\n",
      " [ 7.36336126  0.61633212]\n",
      " [ 5.180128    0.16738062]\n",
      " [ 3.16387814  1.52695894]\n",
      " [ 3.82168466  0.19495748]]\n"
     ]
    }
   ],
   "source": [
    "# tao ma tran toa do decac\n",
    "decac = np.random.rand(10, 2) * 10  # Nhân 10 để có giá trị lớn hơn\n",
    "\n",
    "# chuyen sang toa do cuc\n",
    "r = np.sqrt(decac[:, 0]**2 + decac[:, 1]**2)\n",
    "theta = np.arctan2(decac[:, 1], decac[:, 0])\n",
    "toadocuc = np.column_stack((r, theta))\n",
    "\n",
    "print(\"toa do decac:\\n\", decac)\n",
    "print(\"\\ntoa do cuc:\\n\", toadocuc)"
   ]
  },
  {
   "cell_type": "markdown",
   "id": "2f60f1ec",
   "metadata": {},
   "source": [
    "#### 45. Tạo vector ngẫu nhiên có kích thước 10 và thay thế giá trị lớn nhất bằng 0 (★★☆)"
   ]
  },
  {
   "cell_type": "code",
   "execution_count": 5,
   "id": "d9f48f1c",
   "metadata": {},
   "outputs": [
    {
     "name": "stdout",
     "output_type": "stream",
     "text": [
      "[0.74118238 0.3005254  0.50412757 0.         0.72700643 0.36124637\n",
      " 0.25828089 0.9595039  0.6040807  0.26039474]\n"
     ]
    }
   ],
   "source": [
    "vector = np.random.rand(10)\n",
    "vt_max = np.argmax(vector)\n",
    "vector[vt_max] = 0\n",
    "print(vector)"
   ]
  },
  {
   "cell_type": "markdown",
   "id": "084e8ad4",
   "metadata": {},
   "source": [
    "#### 46. Tạo một mảng có cấu trúc với tọa độ `x` và `y` bao phủ vùng [0,1]x[0,1] (★★☆)"
   ]
  },
  {
   "cell_type": "code",
   "execution_count": 7,
   "id": "58b47c13",
   "metadata": {},
   "outputs": [
    {
     "name": "stdout",
     "output_type": "stream",
     "text": [
      "[[(0.  , 0.  ) (0.25, 0.  ) (0.5 , 0.  ) (0.75, 0.  ) (1.  , 0.  )]\n",
      " [(0.  , 0.25) (0.25, 0.25) (0.5 , 0.25) (0.75, 0.25) (1.  , 0.25)]\n",
      " [(0.  , 0.5 ) (0.25, 0.5 ) (0.5 , 0.5 ) (0.75, 0.5 ) (1.  , 0.5 )]\n",
      " [(0.  , 0.75) (0.25, 0.75) (0.5 , 0.75) (0.75, 0.75) (1.  , 0.75)]\n",
      " [(0.  , 1.  ) (0.25, 1.  ) (0.5 , 1.  ) (0.75, 1.  ) (1.  , 1.  )]]\n"
     ]
    }
   ],
   "source": [
    "dtype = [('x', float), ('y', float)]\n",
    "size = 5  \n",
    "x = np.linspace(0, 1, size)\n",
    "y = np.linspace(0, 1, size)\n",
    "x_grid, y_grid = np.meshgrid(x, y)\n",
    "arr = np.zeros(x_grid.shape, dtype=dtype)\n",
    "arr['x'], arr['y'] = x_grid, y_grid\n",
    "\n",
    "print(arr)"
   ]
  },
  {
   "cell_type": "markdown",
   "id": "d7b9bc42",
   "metadata": {},
   "source": [
    "#### 47. Cho hai mảng X và Y, xây dựng ma trận Cauchy C (Cij = 1/(xi - yj)) (★★☆)"
   ]
  },
  {
   "cell_type": "code",
   "execution_count": 9,
   "id": "a24824fb",
   "metadata": {},
   "outputs": [
    {
     "name": "stdout",
     "output_type": "stream",
     "text": [
      "[[-0.2        -0.16666667 -0.14285714 -0.125      -0.11111111]\n",
      " [-0.25       -0.2        -0.16666667 -0.14285714 -0.125     ]\n",
      " [-0.33333333 -0.25       -0.2        -0.16666667 -0.14285714]\n",
      " [-0.5        -0.33333333 -0.25       -0.2        -0.16666667]\n",
      " [-1.         -0.5        -0.33333333 -0.25       -0.2       ]]\n"
     ]
    }
   ],
   "source": [
    "X = np.array([1, 2, 3, 4, 5])\n",
    "Y = np.array([6, 7, 8, 9, 10])\n",
    "C = 1.0 / (X[:, np.newaxis] - Y)  \n",
    "print(C)"
   ]
  },
  {
   "cell_type": "markdown",
   "id": "65ebc11b",
   "metadata": {},
   "source": [
    "#### 48. In ra giá trị biểu diễn tối thiểu và tối đa cho mỗi loại số vô hướng numpy (★★☆)"
   ]
  },
  {
   "cell_type": "code",
   "execution_count": 11,
   "id": "e45d38fb",
   "metadata": {},
   "outputs": [
    {
     "name": "stdout",
     "output_type": "stream",
     "text": [
      "gia tri toi thieu va toi da cho kieu nguyen:\n",
      "int8: Min = -128, Max = 127\n",
      "int16: Min = -32768, Max = 32767\n",
      "int32: Min = -2147483648, Max = 2147483647\n",
      "int64: Min = -9223372036854775808, Max = 9223372036854775807\n",
      "uint8: Min = 0, Max = 255\n",
      "uint16: Min = 0, Max = 65535\n",
      "uint32: Min = 0, Max = 4294967295\n",
      "uint64: Min = 0, Max = 18446744073709551615\n",
      "\n",
      "gia tri toi thieu va toi da cho kieu so thuc:\n",
      "float16: Min = -65504.0, Max = 65504.0, Precision = 3 bits\n",
      "float32: Min = -3.4028234663852886e+38, Max = 3.4028234663852886e+38, Precision = 6 bits\n",
      "float64: Min = -1.7976931348623157e+308, Max = 1.7976931348623157e+308, Precision = 15 bits\n"
     ]
    }
   ],
   "source": [
    "kieuint = [np.int8, np.int16, np.int32, np.int64,\n",
    "             np.uint8, np.uint16, np.uint32, np.uint64]\n",
    "kieufloat = [np.float16, np.float32, np.float64]\n",
    "\n",
    "# gia tri toi thieu va toi da cho kieu nguyen\n",
    "print(\"gia tri toi thieu va toi da cho kieu nguyen:\")\n",
    "for dtype in kieuint:\n",
    "    info = np.iinfo(dtype)\n",
    "    print(f\"{dtype.__name__}: Min = {info.min}, Max = {info.max}\")\n",
    "\n",
    "# gia tri toi thieu va toi da cho kieu so thuc\n",
    "print(\"\\ngia tri toi thieu va toi da cho kieu so thuc:\")\n",
    "for dtype in kieufloat:\n",
    "    info = np.finfo(dtype)\n",
    "    print(f\"{dtype.__name__}: Min = {info.min}, Max = {info.max}, Precision = {info.precision} bits\")"
   ]
  },
  {
   "cell_type": "markdown",
   "id": "9b317a98",
   "metadata": {},
   "source": [
    "#### 49. Làm thế nào để in tất cả các giá trị của một mảng? (★★☆)"
   ]
  },
  {
   "cell_type": "code",
   "execution_count": 13,
   "id": "309cdeb9",
   "metadata": {},
   "outputs": [
    {
     "name": "stdout",
     "output_type": "stream",
     "text": [
      "[1 2 3 4 5]\n"
     ]
    }
   ],
   "source": [
    "arr = np.array([1, 2, 3, 4, 5])\n",
    "print(arr)"
   ]
  },
  {
   "cell_type": "markdown",
   "id": "b580f9d0",
   "metadata": {},
   "source": [
    "#### 50. Làm thế nào để tìm giá trị gần nhất (với một số vô hướng nhất định) trong một vectơ? (★★☆)"
   ]
  },
  {
   "cell_type": "code",
   "execution_count": 47,
   "id": "ebfb6714",
   "metadata": {},
   "outputs": [
    {
     "name": "stdout",
     "output_type": "stream",
     "text": [
      "9\n"
     ]
    }
   ],
   "source": [
    "vector = np.array([1, 3, 7, 9, 12, 15])\n",
    "x = 10\n",
    "khoangcach = np.abs(vector - x)\n",
    "vt_gannhat = np.argmin(khoangcach)\n",
    "gt_gannhat = vector[vt_gannhat]\n",
    "print(gt_gannhat)"
   ]
  }
 ],
 "metadata": {
  "kernelspec": {
   "display_name": "Python 3 (ipykernel)",
   "language": "python",
   "name": "python3"
  },
  "language_info": {
   "codemirror_mode": {
    "name": "ipython",
    "version": 3
   },
   "file_extension": ".py",
   "mimetype": "text/x-python",
   "name": "python",
   "nbconvert_exporter": "python",
   "pygments_lexer": "ipython3",
   "version": "3.12.4"
  }
 },
 "nbformat": 4,
 "nbformat_minor": 5
}
